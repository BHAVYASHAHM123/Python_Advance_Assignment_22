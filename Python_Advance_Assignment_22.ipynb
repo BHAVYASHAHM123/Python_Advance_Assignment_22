{
  "cells": [
    {
      "cell_type": "markdown",
      "id": "43e17e3d",
      "metadata": {
        "id": "43e17e3d"
      },
      "source": [
        "Q1). What are the benefits of the built-in array package, if any?\n",
        "\n",
        " Ans) Arrays represent multiple data items of the same type using a single name.In arrays, the elements can be accessed randomly by using the index number. Arrays allocate memory in contiguous memory locations for all its elements. Hence there is no chance of extra memory being allocated in case of arrays. This avoids memory overflow or shortage of memory in arrays."
      ]
    },
    {
      "cell_type": "markdown",
      "id": "e0cf93ec",
      "metadata": {
        "id": "e0cf93ec"
      },
      "source": [
        "Q2. What are some of the array package&#39;s limitations?\n",
        "\n",
        "Ans)The number of elements to be stored in an array should be known in advance. An array is a static structure (which means the array is of fixed size). Once declared the size of the array cannot be modified. The memory which is allocated to it cannot be increased or decreased. Insertion and deletion are quite difficult in an array as the elements are stored in consecutive memory locations and the shifting operation is costly. Allocating more memory than the requirement leads to wastage of memory space and less allocation of memory \n",
        "also leads to a problem."
      ]
    },
    {
      "cell_type": "markdown",
      "id": "4a500e6e",
      "metadata": {
        "id": "4a500e6e"
      },
      "source": [
        "Q3. Describe the main differences between the array and numpy packages.\n",
        "\n",
        "Ans) The array package doesn't provide any help with numerical calculation with the items insdie it in number form \n",
        "      while NumPy give you a wide variety of numerical operations. An array is a single dimensional entity which hold\n",
        "      the numerical data, while numpy can have more than 1 dimension.In case of array, item can be accessed by its\n",
        "      index position and it is easy task while in numpy item is accessed by its column and row index, which makes \n",
        "      it slightly time taking. Same goes with appending operation.In case of array we do not form a tabular \n",
        "      structure, while in numpy it forms a tabular structure."
      ]
    },
    {
      "cell_type": "markdown",
      "id": "08cf3e81",
      "metadata": {
        "id": "08cf3e81"
      },
      "source": [
        "Q4). Explain the distinctions between the empty, ones, and zeros functions.\n",
        "\n",
        " Ans : Empty function: An empty function is a function that does not contain any statement within its body. If you \n",
        "       try to write a function definition without any statement in python ,it will return an error. To avoid this,\n",
        "       we use pass statement. pass is a special statement in Python that does nothing. It only works as a dummy \n",
        "       statement ones: This function returns a new array of given shape and data type, where the element’s value is 1.\n",
        "       zeros: This function returns a new array of given shape and data type, where the element’s value is 0"
      ]
    },
    {
      "cell_type": "markdown",
      "id": "dda970c5",
      "metadata": {
        "id": "dda970c5"
      },
      "source": [
        "Q5). In the fromfunction function, which is used to construct new arrays, what is the role of the callable argument?\n",
        "\n",
        "Asn) Its function is to execute the function over each coordinate and the resulting array. The function is called\n",
        "       with N parameters, where N is the rank of shape. Each parameter represents the coordinates of the array \n",
        "       varying along a specific axis."
      ]
    },
    {
      "cell_type": "markdown",
      "id": "22449153",
      "metadata": {
        "id": "22449153"
      },
      "source": [
        "Q6). What happens when a numpy array is combined with a single-value operand (a scalar, such as an int or a floating-point value) through addition, as in the expression A + n?\n",
        "\n",
        "Ans) If any scaler value such as integer is added to the numpy array then all the elements inside the array will add that value in it."
      ]
    },
    {
      "cell_type": "code",
      "execution_count": 11,
      "id": "121b40cd",
      "metadata": {
        "colab": {
          "base_uri": "https://localhost:8080/"
        },
        "id": "121b40cd",
        "outputId": "5219fead-e7ab-4cd1-b758-1cad35615ff2"
      },
      "outputs": [
        {
          "output_type": "stream",
          "name": "stdout",
          "text": [
            "[[0 1 2]\n",
            " [3 4 5]\n",
            " [6 7 8]]\n",
            "\n",
            "[[1 2 3]\n",
            " [4 5 6]\n",
            " [7 8 9]]\n"
          ]
        }
      ],
      "source": [
        "import numpy as np\n",
        "a=np.arange(9).reshape(3,3)\n",
        "print(a)\n",
        "print()\n",
        "print(a+1)"
      ]
    },
    {
      "cell_type": "markdown",
      "id": "d3a5cff9",
      "metadata": {
        "id": "d3a5cff9"
      },
      "source": [
        "Q7). Can array-to-scalar operations use combined operation-assign operators (such as += or *=)? What is the outcome?\n",
        "\n",
        "Ans) It will do the operation as per operators. Like if we use + operand it will update the current array by adding and when we use '*', it will update by multiplying."
      ]
    },
    {
      "cell_type": "code",
      "execution_count": null,
      "id": "ec67e48e",
      "metadata": {
        "id": "ec67e48e",
        "outputId": "53b08064-4a36-4633-f6c2-f0bf24351d05"
      },
      "outputs": [
        {
          "name": "stdout",
          "output_type": "stream",
          "text": [
            "[[0 1 2]\n",
            " [3 4 5]\n",
            " [6 7 8]]\n"
          ]
        }
      ],
      "source": [
        "print(a)"
      ]
    },
    {
      "cell_type": "code",
      "execution_count": null,
      "id": "41eb2b00",
      "metadata": {
        "id": "41eb2b00",
        "outputId": "eea07d68-9bd4-40fb-d17b-77f3c9d805bb"
      },
      "outputs": [
        {
          "name": "stdout",
          "output_type": "stream",
          "text": [
            "[[ 2  3  4]\n",
            " [ 5  6  7]\n",
            " [ 8  9 10]]\n"
          ]
        }
      ],
      "source": [
        "a+=1\n",
        "print(a)"
      ]
    },
    {
      "cell_type": "code",
      "execution_count": null,
      "id": "70b18507",
      "metadata": {
        "id": "70b18507",
        "outputId": "c09f2382-a16b-49b3-cc1a-6e8e150c2947"
      },
      "outputs": [
        {
          "name": "stdout",
          "output_type": "stream",
          "text": [
            "[[ 4  6  8]\n",
            " [10 12 14]\n",
            " [16 18 20]]\n"
          ]
        }
      ],
      "source": [
        "a*=2\n",
        "print(a)"
      ]
    },
    {
      "cell_type": "markdown",
      "id": "306017e4",
      "metadata": {
        "id": "306017e4"
      },
      "source": [
        "Q8). Does a numpy array contain fixed-length strings? What happens if you allocate a longer string to one of these arrays?\n",
        "\n",
        "Ans)Yes it is possible that we can include a string of fixed length in numpy array. The dtype of any numpy array \n",
        "       containing string values is the maximum length of any string present in the array.\n",
        "       Once set, it will only be able to store new string having length not more than the maximum length at the time \n",
        "       of the creation. If we try to reassign some another string value having length greater than the maximum length\n",
        "       of the existing elements, it simply discards all the values beyond the maximum length accept upto those values \n",
        "       which are under the limit."
      ]
    },
    {
      "cell_type": "code",
      "execution_count": 1,
      "id": "b96a5f75",
      "metadata": {
        "colab": {
          "base_uri": "https://localhost:8080/"
        },
        "id": "b96a5f75",
        "outputId": "d4034ff9-6998-4ee9-a6c5-888fc9c657b2"
      },
      "outputs": [
        {
          "output_type": "execute_result",
          "data": {
            "text/plain": [
              "array(['bhavya', 'malkesh', 'shah'], dtype='<U7')"
            ]
          },
          "metadata": {},
          "execution_count": 1
        }
      ],
      "source": [
        "import numpy as np\n",
        "name = np.array(['bhavya', 'malkesh', 'shah'])\n",
        "name"
      ]
    },
    {
      "cell_type": "code",
      "execution_count": 3,
      "id": "bb7667e7",
      "metadata": {
        "colab": {
          "base_uri": "https://localhost:8080/"
        },
        "id": "bb7667e7",
        "outputId": "aa6be6a4-18a3-4843-a078-081c032a53eb"
      },
      "outputs": [
        {
          "output_type": "stream",
          "name": "stdout",
          "text": [
            "['underta' 'malkesh' 'shah']\n"
          ]
        }
      ],
      "source": [
        "name[name=='bhavya']='undertaker'\n",
        "print(name)"
      ]
    },
    {
      "cell_type": "markdown",
      "id": "91506bb3",
      "metadata": {
        "id": "91506bb3"
      },
      "source": [
        "Q9). What happens when you combine two numpy arrays using an operation like addition (+) or multiplication (*)? What are the conditions for combining two numpy arrays?\n",
        "\n",
        "Ans)It will simply add or multiply element to element at same position.The only requirement which must be met are:\n",
        "1)Data type should be same.\n",
        "2) Shape of the two matrices must be same"
      ]
    },
    {
      "cell_type": "markdown",
      "id": "3f6ece48",
      "metadata": {
        "id": "3f6ece48"
      },
      "source": [
        "Q10). What is the best way to use a Boolean array to mask another array?"
      ]
    },
    {
      "cell_type": "code",
      "execution_count": 8,
      "id": "52037518",
      "metadata": {
        "colab": {
          "base_uri": "https://localhost:8080/"
        },
        "id": "52037518",
        "outputId": "f263c818-82c0-4377-e140-802ed7b842cc"
      },
      "outputs": [
        {
          "output_type": "stream",
          "name": "stdout",
          "text": [
            "[True, True, masked, masked]\n",
            "1\n"
          ]
        }
      ],
      "source": [
        "\n",
        "y = np.array([True,True,False,True])          \n",
        "x = np.array([1,2,3,4])         \n",
        "m = np.ma.masked_where(x>2,y)  \n",
        "print(list(m))\n",
        "print(m.ndim)\n",
        "\n"
      ]
    },
    {
      "cell_type": "markdown",
      "id": "6b59368b",
      "metadata": {
        "id": "6b59368b"
      },
      "source": [
        "Q11). What are three different ways to get the standard deviation of a wide collection of data using both standard Python and its packages? Sort the three of them by how quickly they execute.\n",
        "\n",
        "Ans) Standard deviation can be calculated in amny ways. If wee see the formula of SD, it says std= Square Root of [ Summation of [square of (x-mean)/number of observation] ] .So this can be achive by:"
      ]
    },
    {
      "cell_type": "code",
      "execution_count": null,
      "id": "06c0366a",
      "metadata": {
        "id": "06c0366a"
      },
      "outputs": [],
      "source": [
        "#2)Using Numpy Array package\n",
        "import numpy as np\n",
        "SD=np.std(x)"
      ]
    },
    {
      "cell_type": "code",
      "execution_count": null,
      "id": "d4a7bbf7",
      "metadata": {
        "id": "d4a7bbf7"
      },
      "outputs": [],
      "source": [
        "#       3) General calculation without using any package\n",
        "SD= (((1-avg)**2 + (2-avg)**2)/N)**1/2"
      ]
    },
    {
      "cell_type": "code",
      "execution_count": null,
      "id": "ca0b16cf",
      "metadata": {
        "id": "ca0b16cf"
      },
      "outputs": [],
      "source": [
        ""
      ]
    }
  ],
  "metadata": {
    "kernelspec": {
      "display_name": "Python 3",
      "language": "python",
      "name": "python3"
    },
    "language_info": {
      "codemirror_mode": {
        "name": "ipython",
        "version": 3
      },
      "file_extension": ".py",
      "mimetype": "text/x-python",
      "name": "python",
      "nbconvert_exporter": "python",
      "pygments_lexer": "ipython3",
      "version": "3.8.8"
    },
    "colab": {
      "name": "Python_Advance_Assignment_22.ipynb",
      "provenance": []
    }
  },
  "nbformat": 4,
  "nbformat_minor": 5
}